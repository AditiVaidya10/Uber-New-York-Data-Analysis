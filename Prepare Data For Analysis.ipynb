{
 "cells": [
  {
   "cell_type": "code",
   "execution_count": 1,
   "id": "0106bdf7",
   "metadata": {},
   "outputs": [],
   "source": [
    "import pandas as pd\n",
    "import seaborn as sns\n",
    "import matplotlib.pyplot as plt\n",
    "import numpy as np"
   ]
  },
  {
   "cell_type": "code",
   "execution_count": 2,
   "id": "dfd50577",
   "metadata": {},
   "outputs": [],
   "source": [
    "uber_15=pd.read_csv(r'/Users/test/Downloads/uber-pickups-in-new-york-city/uber-raw-data-janjune-15.csv', encoding='utf-8')"
   ]
  },
  {
   "cell_type": "code",
   "execution_count": 3,
   "id": "3ab72b4b",
   "metadata": {},
   "outputs": [
    {
     "data": {
      "text/html": [
       "<div>\n",
       "<style scoped>\n",
       "    .dataframe tbody tr th:only-of-type {\n",
       "        vertical-align: middle;\n",
       "    }\n",
       "\n",
       "    .dataframe tbody tr th {\n",
       "        vertical-align: top;\n",
       "    }\n",
       "\n",
       "    .dataframe thead th {\n",
       "        text-align: right;\n",
       "    }\n",
       "</style>\n",
       "<table border=\"1\" class=\"dataframe\">\n",
       "  <thead>\n",
       "    <tr style=\"text-align: right;\">\n",
       "      <th></th>\n",
       "      <th>Dispatching_base_num</th>\n",
       "      <th>Pickup_date</th>\n",
       "      <th>Affiliated_base_num</th>\n",
       "      <th>locationID</th>\n",
       "    </tr>\n",
       "  </thead>\n",
       "  <tbody>\n",
       "    <tr>\n",
       "      <th>0</th>\n",
       "      <td>B02617</td>\n",
       "      <td>2015-05-17 09:47:00</td>\n",
       "      <td>B02617</td>\n",
       "      <td>141</td>\n",
       "    </tr>\n",
       "    <tr>\n",
       "      <th>1</th>\n",
       "      <td>B02617</td>\n",
       "      <td>2015-05-17 09:47:00</td>\n",
       "      <td>B02617</td>\n",
       "      <td>65</td>\n",
       "    </tr>\n",
       "  </tbody>\n",
       "</table>\n",
       "</div>"
      ],
      "text/plain": [
       "  Dispatching_base_num          Pickup_date Affiliated_base_num  locationID\n",
       "0               B02617  2015-05-17 09:47:00              B02617         141\n",
       "1               B02617  2015-05-17 09:47:00              B02617          65"
      ]
     },
     "execution_count": 3,
     "metadata": {},
     "output_type": "execute_result"
    }
   ],
   "source": [
    "uber_15.head(2)"
   ]
  },
  {
   "cell_type": "code",
   "execution_count": 4,
   "id": "d27856d8",
   "metadata": {},
   "outputs": [
    {
     "data": {
      "text/plain": [
       "(14270479, 4)"
      ]
     },
     "execution_count": 4,
     "metadata": {},
     "output_type": "execute_result"
    }
   ],
   "source": [
    "uber_15.shape"
   ]
  },
  {
   "cell_type": "code",
   "execution_count": 5,
   "id": "945c0e97",
   "metadata": {},
   "outputs": [
    {
     "data": {
      "text/plain": [
       "898225"
      ]
     },
     "execution_count": 5,
     "metadata": {},
     "output_type": "execute_result"
    }
   ],
   "source": [
    "uber_15.duplicated().sum()"
   ]
  },
  {
   "cell_type": "code",
   "execution_count": 6,
   "id": "4bc4dfd1",
   "metadata": {},
   "outputs": [],
   "source": [
    "uber_15.drop_duplicates(inplace=True)"
   ]
  },
  {
   "cell_type": "code",
   "execution_count": 7,
   "id": "80e20b29",
   "metadata": {},
   "outputs": [
    {
     "data": {
      "text/plain": [
       "(13372254, 4)"
      ]
     },
     "execution_count": 7,
     "metadata": {},
     "output_type": "execute_result"
    }
   ],
   "source": [
    "uber_15.shape"
   ]
  },
  {
   "cell_type": "code",
   "execution_count": null,
   "id": "9c4543ec",
   "metadata": {},
   "outputs": [],
   "source": []
  }
 ],
 "metadata": {
  "kernelspec": {
   "display_name": "Python 3 (ipykernel)",
   "language": "python",
   "name": "python3"
  },
  "language_info": {
   "codemirror_mode": {
    "name": "ipython",
    "version": 3
   },
   "file_extension": ".py",
   "mimetype": "text/x-python",
   "name": "python",
   "nbconvert_exporter": "python",
   "pygments_lexer": "ipython3",
   "version": "3.9.13"
  }
 },
 "nbformat": 4,
 "nbformat_minor": 5
}
